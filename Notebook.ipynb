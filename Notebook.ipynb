{
 "cells": [
  {
   "cell_type": "markdown",
   "id": "13e9b441-d9cc-4450-b43e-071c0f7d5986",
   "metadata": {},
   "source": [
    "What is up my homies?"
   ]
  },
  {
   "cell_type": "code",
   "execution_count": null,
   "id": "a197d590-52d3-4ff8-8fb7-0a539830fc0c",
   "metadata": {},
   "outputs": [],
   "source": [
    "for i in range 20:\n",
    "    print(\"hi\")"
   ]
  }
 ],
 "metadata": {
  "kernelspec": {
   "display_name": "Python 3 (ipykernel)",
   "language": "python",
   "name": "python3"
  },
  "language_info": {
   "codemirror_mode": {
    "name": "ipython",
    "version": 3
   },
   "file_extension": ".py",
   "mimetype": "text/x-python",
   "name": "python",
   "nbconvert_exporter": "python",
   "pygments_lexer": "ipython3",
   "version": "3.11.4"
  }
 },
 "nbformat": 4,
 "nbformat_minor": 5
}
